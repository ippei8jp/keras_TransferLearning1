{
  "nbformat": 4,
  "nbformat_minor": 0,
  "metadata": {
    "colab": {
      "name": "keras_TransferLearning1.ipynb",
      "provenance": [],
      "collapsed_sections": [],
      "history_visible": true
    },
    "kernelspec": {
      "name": "python3",
      "display_name": "Python 3"
    },
    "language_info": {
      "name": "python"
    },
    "accelerator": "GPU"
  },
  "cells": [
    {
      "cell_type": "code",
      "metadata": {
        "id": "ptmZk_JScWgA"
      },
      "source": [
        "!git clone https://github.com/ippei8jp/keras_TransferLearning1.git\n",
        "%cd keras_TransferLearning1\n",
        "!python cifar10_train.py"
      ],
      "execution_count": null,
      "outputs": []
    },
    {
      "cell_type": "code",
      "metadata": {
        "id": "ubLHPgGjflRi"
      },
      "source": [
        "!zip -r result.zip cifar10.h5 saved_model"
      ],
      "execution_count": null,
      "outputs": []
    },
    {
      "cell_type": "markdown",
      "metadata": {
        "id": "kEZoerQNegsy"
      },
      "source": [
        "実行完了したら``result.zip``  をダウンロードし、解凍してできた``cifar10.h5``と``saved_model``をローカルのフォルダにコピーして``cifar10_predict.py``を実行してみてください  \n",
        "ただし、ここのpythonのバージョン とローカルのpythonのバージョン が異なる場合、``load_model()``でエラーになることがあります。\n"
      ]
    },
    {
      "cell_type": "code",
      "metadata": {
        "id": "62khBxlLmxhK"
      },
      "source": [
        "!python -V"
      ],
      "execution_count": null,
      "outputs": []
    },
    {
      "cell_type": "code",
      "metadata": {
        "id": "RbKDeqDIjvqA"
      },
      "source": [
        "# シングルモードで実行\n",
        "!python cifar10_predict.py"
      ],
      "execution_count": null,
      "outputs": []
    },
    {
      "cell_type": "code",
      "metadata": {
        "id": "WyfdDi8wkEN3"
      },
      "source": [
        "# バッチモードで実行\n",
        "!python cifar10_predict.py 1"
      ],
      "execution_count": null,
      "outputs": []
    }
  ]
}